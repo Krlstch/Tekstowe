{
 "metadata": {
  "language_info": {
   "codemirror_mode": {
    "name": "ipython",
    "version": 3
   },
   "file_extension": ".py",
   "mimetype": "text/x-python",
   "name": "python",
   "nbconvert_exporter": "python",
   "pygments_lexer": "ipython3",
   "version": "3.7.4-final"
  },
  "orig_nbformat": 2,
  "kernelspec": {
   "name": "python3",
   "display_name": "Python 3.7.4 64-bit (conda)",
   "metadata": {
    "interpreter": {
     "hash": "32234c492e62a0190924071d1af00664077e723f831a2a30d1a66cdef44ccf58"
    }
   }
  }
 },
 "nbformat": 4,
 "nbformat_minor": 2,
 "cells": [
  {
   "cell_type": "code",
   "execution_count": null,
   "metadata": {},
   "outputs": [],
   "source": [
    "import queue"
   ]
  },
  {
   "cell_type": "code",
   "execution_count": 109,
   "metadata": {},
   "outputs": [],
   "source": [
    "class StaticHuffmanNode:\n",
    "        def __init__(self, frequency, character=None, left=None, right=None):\n",
    "            self.frequency = frequency\n",
    "            self.character = character\n",
    "            self.left = left\n",
    "            self.right = right\n",
    "        \n",
    "        def __str__(self):\n",
    "            return f\"\\'{self.character}\\': {self.frequency}\"\n",
    "        \n",
    "        def __repr__(self):\n",
    "            return self.__str__()\n",
    "\n",
    "        def print_tree(self, indent=0):\n",
    "            for _ in range(indent):\n",
    "                print(\"\\t\")\n",
    "            print(self) \n",
    "            for child in (self.left, self.right):\n",
    "                if child is not None:\n",
    "                    child.print_tree(indent+1)\n",
    "\n",
    "class StaticHuffmanTree:\n",
    "    def __init__(self, text):\n",
    "        freqs = StaticHuffmanTree.__count_sybols(text)\n",
    "        nodes = []\n",
    "\n",
    "        nodes = []\n",
    "        for char, freq in freqs.items():\n",
    "            nodes.append(StaticHuffmanNode(freq, char))\n",
    "\n",
    "        leaf_nodes = sorted(nodes, key=lambda x: x.frequency, reverse=True)\n",
    "        internal_nodes = []\n",
    "        while len(leaf_nodes) + len(internal_nodes) > 1:\n",
    "            print(f\"leafnodes: {leaf_nodes}\")\n",
    "            print(f\"internal_nodes: {internal_nodes}\")\n",
    "            head = leaf_nodes[-min(2, len(leaf_nodes)):] + internal_nodes[-min(2, len(leaf_nodes)):]\n",
    "            print(f\"head: {head}\")\n",
    "            node1, node2 = sorted(head, key=lambda x: x.frequency)[:2]\n",
    "            print(f\"nodes: {node1}, {node2}\")\n",
    "            internal_nodes.append(StaticHuffmanNode(frequency=node1.frequency + node2.frequency,\n",
    "                                         character=None, left=node1, right=node2))\n",
    "            \n",
    "            for node in (node1, node2):\n",
    "                #print(f\"node: {node}, lastleaf: {leaf_nodes[-1]}\")\n",
    "                if len(leaf_nodes) > 0 and node == leaf_nodes[-1]:\n",
    "                    \n",
    "                    leaf_nodes.pop()\n",
    "                else:\n",
    "                    internal_nodes.pop(0)\n",
    "            \n",
    "            print()\n",
    "        self.tree = internal_nodes[0]\n",
    "        \n",
    "    def print_tree(self):\n",
    "        self.tree.print_tree()\n",
    "\n",
    "\n",
    "    @staticmethod\n",
    "    def __count_sybols(text):\n",
    "        freqs = {}\n",
    "        for char in text:\n",
    "            if char in freqs:\n",
    "                freqs[char] += 1\n",
    "            else:\n",
    "                freqs[char] = 1\n",
    "        return freqs\n",
    "\n",
    "\n",
    "\n",
    "\n"
   ]
  },
  {
   "cell_type": "code",
   "execution_count": 110,
   "metadata": {},
   "outputs": [
    {
     "output_type": "stream",
     "name": "stdout",
     "text": [
      "leafnodes: ['a': 3, 'b': 2, 'c': 1]\ninternal_nodes: []\nhead: ['b': 2, 'c': 1]\nnodes: 'c': 1, 'b': 2\n\nleafnodes: ['a': 3]\ninternal_nodes: ['None': 3]\nhead: ['a': 3, 'None': 3]\nnodes: 'a': 3, 'None': 3\n\n'None': 6\n\t\n'a': 3\n\t\n'None': 3\n\t\n\t\n'c': 1\n\t\n\t\n'b': 2\n"
     ]
    }
   ],
   "source": [
    "t = StaticHuffmanTree(\"aaabbc\")\n",
    "t.print_tree()"
   ]
  },
  {
   "cell_type": "code",
   "execution_count": null,
   "metadata": {},
   "outputs": [],
   "source": []
  }
 ]
}